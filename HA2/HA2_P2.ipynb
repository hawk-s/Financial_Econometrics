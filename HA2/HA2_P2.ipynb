{
 "cells": [
  {
   "cell_type": "markdown",
   "metadata": {},
   "source": [
    "# P2"
   ]
  },
  {
   "cell_type": "markdown",
   "metadata": {},
   "source": [
    "## get the data:"
   ]
  },
  {
   "cell_type": "code",
   "execution_count": 1,
   "metadata": {
    "vscode": {
     "languageId": "r"
    }
   },
   "outputs": [
    {
     "name": "stderr",
     "output_type": "stream",
     "text": [
      "Loading required package: xts\n",
      "Loading required package: zoo\n",
      "\n",
      "Attaching package: 'zoo'\n",
      "\n",
      "The following objects are masked from 'package:base':\n",
      "\n",
      "    as.Date, as.Date.numeric\n",
      "\n",
      "Registered S3 method overwritten by 'xts':\n",
      "  method     from\n",
      "  as.zoo.xts zoo \n",
      "Loading required package: TTR\n",
      "Registered S3 method overwritten by 'quantmod':\n",
      "  method            from\n",
      "  as.zoo.data.frame zoo \n",
      "Version 0.4-0 included new data defaults. See ?getSymbols.\n"
     ]
    }
   ],
   "source": [
    "# Load necessary library\n",
    "library(quantmod)\n",
    "\n",
    "# Set seed for reproducibility\n",
    "set.seed(53600945)\n",
    "\n",
    "# Generate 100 random integers within the range 1 to 377\n",
    "random_indices <- sample(1:377, 100, replace = FALSE)\n",
    "\n",
    "# Read the tickers from the \"symbols2.csv\" file\n",
    "symbols_df <- read.csv(\"symbols2.csv\")\n",
    "\n",
    "# Select tickers based on the generated random integers\n",
    "selected_tickers <- symbols_df$Ticker[random_indices]\n",
    "\n",
    "# Define the start and end dates for the data download\n",
    "start_date <- as.Date(\"2020-01-01\")\n",
    "end_date <- as.Date(\"2022-10-31\")\n",
    "\n",
    "# Initialize a list to store the stock data\n",
    "stock_data_list <- list()\n",
    "\n",
    "# Loop through the selected tickers and download the stock price data\n",
    "for(ticker in selected_tickers) {\n",
    "  # The tryCatch function is used to ignore errors (e.g., if the stock is not available)\n",
    "  stock_data <- tryCatch({\n",
    "    getSymbols(ticker, src = 'yahoo', from = start_date, to = end_date, auto.assign = FALSE)\n",
    "  }, error = function(e) NULL)\n",
    "  \n",
    "  # If stock data was successfully downloaded, add it to the list\n",
    "  if (!is.null(stock_data)) {\n",
    "    stock_data_list[[ticker]] <- stock_data\n",
    "  }\n",
    "}\n",
    "\n",
    "# At this point, `stock_data_list` contains the downloaded stock data for each available ticker\n",
    "# You can access each stock's data using stock_data_list[['Ticker']]\n"
   ]
  },
  {
   "cell_type": "markdown",
   "metadata": {},
   "source": [
    "## compute log returns:"
   ]
  },
  {
   "cell_type": "code",
   "execution_count": 2,
   "metadata": {
    "vscode": {
     "languageId": "r"
    }
   },
   "outputs": [],
   "source": [
    "# Function to compute logarithmic returns\n",
    "compute_log_returns <- function(stock_prices) {\n",
    "  # Compute logarithmic returns using diff and log\n",
    "  log_returns <- diff(log(Cl(stock_prices)))\n",
    "  return(log_returns)\n",
    "}\n",
    "\n",
    "# Initialize a list to store the logarithmic returns for each stock\n",
    "log_returns_list <- list()\n",
    "\n",
    "# Loop through each stock's data in `stock_data_list` to compute the logarithmic returns\n",
    "for(ticker in names(stock_data_list)) {\n",
    "  stock_prices <- stock_data_list[[ticker]]\n",
    "  log_returns <- compute_log_returns(stock_prices)\n",
    "  log_returns_list[[ticker]] <- log_returns\n",
    "}\n",
    "\n",
    "# At this point, `log_returns_list` contains the logarithmic returns for each available ticker\n",
    "# You can access the logarithmic returns of each stock using log_returns_list[['Ticker']]\n"
   ]
  },
  {
   "cell_type": "markdown",
   "metadata": {},
   "source": [
    "## compute mean log returns:"
   ]
  },
  {
   "cell_type": "code",
   "execution_count": 6,
   "metadata": {
    "vscode": {
     "languageId": "r"
    }
   },
   "outputs": [
    {
     "ename": "ERROR",
     "evalue": "Error in as.data.frame(x): argument \"x\" is missing, with no default\n",
     "output_type": "error",
     "traceback": [
      "Error in as.data.frame(x): argument \"x\" is missing, with no default\nTraceback:\n",
      "1. do.call(merge, c(log_returns_list, all = TRUE))",
      "2. (function (x, y, ...) \n . UseMethod(\"merge\"))(all = TRUE)",
      "3. merge.default(all = TRUE)",
      "4. merge(as.data.frame(x), as.data.frame(y), ...)",
      "5. as.data.frame(x)"
     ]
    }
   ],
   "source": [
    "# Assuming `log_returns_list` contains the logarithmic returns for each stock\n",
    "\n",
    "# Combine all logarithmic returns into a single data frame\n",
    "# Each column in this data frame will represent a stock, and each row represents a date\n",
    "combined_log_returns <- do.call(merge, c(log_returns_list, all = TRUE))\n",
    "\n",
    "# Compute the mean logarithmic return for each date\n",
    "mean_log_returns <- rowMeans(combined_log_returns, na.rm = TRUE)\n",
    "\n",
    "# Convert the mean logarithmic returns to a data frame for easier handling\n",
    "mean_log_returns_df <- data.frame(Date = index(combined_log_returns), MeanLogReturn = mean_log_returns)\n",
    "\n",
    "# Preview the data frame containing the mean logarithmic returns\n",
    "head(mean_log_returns_df)\n"
   ]
  }
 ],
 "metadata": {
  "kernelspec": {
   "display_name": "R",
   "language": "R",
   "name": "ir"
  },
  "language_info": {
   "codemirror_mode": "r",
   "file_extension": ".r",
   "mimetype": "text/x-r-source",
   "name": "R",
   "pygments_lexer": "r",
   "version": "3.6.1"
  }
 },
 "nbformat": 4,
 "nbformat_minor": 2
}
