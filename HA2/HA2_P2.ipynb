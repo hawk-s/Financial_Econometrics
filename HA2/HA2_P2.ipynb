{
 "cells": [
  {
   "cell_type": "markdown",
   "metadata": {},
   "source": [
    "# P2"
   ]
  },
  {
   "cell_type": "markdown",
   "metadata": {},
   "source": [
    "## Get the data:"
   ]
  },
  {
   "cell_type": "code",
   "execution_count": 1,
   "metadata": {
    "vscode": {
     "languageId": "r"
    }
   },
   "outputs": [
    {
     "name": "stderr",
     "output_type": "stream",
     "text": [
      "Loading required package: xts\n",
      "Loading required package: zoo\n",
      "\n",
      "Attaching package: 'zoo'\n",
      "\n",
      "The following objects are masked from 'package:base':\n",
      "\n",
      "    as.Date, as.Date.numeric\n",
      "\n",
      "Registered S3 method overwritten by 'xts':\n",
      "  method     from\n",
      "  as.zoo.xts zoo \n",
      "Loading required package: TTR\n",
      "Registered S3 method overwritten by 'quantmod':\n",
      "  method            from\n",
      "  as.zoo.data.frame zoo \n"
     ]
    },
    {
     "name": "stdout",
     "output_type": "stream",
     "text": [
      "  [1] GILD KSS  ABC  BA   AEE  TRV  PCG  AN   BMC  RL   CL   AZO  TXN  MSFT HES \n",
      " [16] NRG  CAH  IP   ETR  FITB HAS  IRM  TEL  PDCO SCHW CVS  IFF  COF  SE   IR  \n",
      " [31] FE   JPM  PNC  NFLX XRX  WMB  CVX  FTI  FISV V    NEE  PHM  NOV  KO   PBCT\n",
      " [46] MO   GCI  LRCX BSX  PG   MMM  RSG  HSY  EFX  ROST EXPD PLD  FDX  HOG  BBBY\n",
      " [61] DRI  HST  INTU AEP  GIS  BK   ADBE TAP  MNST BIIB PGR  PSA  IGT  CHRW ICE \n",
      " [76] VZ   MAS  HAL  DVN  PKI  BAC  VRSN BAX  EBAY SLM  PSX  PXD  CMI  A    CMS \n",
      " [91] YUM  WEC  LLL  T    AXP  MDT  MCK  EA   WDC  PRU \n",
      "377 Levels: A AA AAPL ABC ABT ACE ACN ADBE ADI ADM ADP ADSK AEE AEP AES ... ZION\n"
     ]
    },
    {
     "name": "stderr",
     "output_type": "stream",
     "text": [
      "Warning message:\n",
      "\"BMC contains missing values. Some functions will not work if objects contain missing values in the middle of the series. Consider using na.omit(), na.approx(), na.fill(), etc to remove or replace them.\""
     ]
    }
   ],
   "source": [
    "library(quantmod)\n",
    "\n",
    "# seed\n",
    "set.seed(53600945)\n",
    "\n",
    "# generate 100 random integers from the range 1 to 377\n",
    "random_indices <- sample(1:377, 100, replace = FALSE)\n",
    "\n",
    "# read tickers\n",
    "symbols_df <- read.csv(\"symbols2.csv\", sep = \",\", header = TRUE)\n",
    "\n",
    "#print(symbols_df)\n",
    "\n",
    "#print(random_indices)\n",
    "\n",
    "\n",
    "# select tickers based on the generated random numbers\n",
    "selected_tickers <- symbols_df$Symbol[random_indices]\n",
    "\n",
    "\n",
    "print(selected_tickers)\n",
    "\n",
    "# start and end dates for the data download\n",
    "start_date <- as.Date(\"2020-01-01\")\n",
    "end_date <- as.Date(\"2022-10-31\")\n",
    "\n",
    "# list to store the stock data\n",
    "stock_data_list <- list()\n",
    "\n",
    "# loop through the selected tickers and download the stock price data\n",
    "for(ticker in selected_tickers) {\n",
    "  # tryCatch fction is used to ignore errors (if the stock is not available or so)\n",
    "  stock_data <- tryCatch({\n",
    "    getSymbols(ticker, src = 'yahoo', from = start_date, to = end_date, auto.assign = FALSE)\n",
    "  }, error = function(e) NULL)\n",
    "  \n",
    "  # if stock data was downloaded, add it to the list\n",
    "  if (!is.null(stock_data)) {\n",
    "    stock_data_list[[ticker]] <- stock_data\n",
    "  }\n",
    "}\n",
    "\n",
    "#print(head(stock_data_list))"
   ]
  },
  {
   "cell_type": "markdown",
   "metadata": {},
   "source": [
    "## Compute the log returns:"
   ]
  },
  {
   "cell_type": "code",
   "execution_count": 2,
   "metadata": {
    "vscode": {
     "languageId": "r"
    }
   },
   "outputs": [],
   "source": [
    "# fction to compute logarithmic returns\n",
    "compute_log_returns <- function(stock_prices) {\n",
    "  \n",
    "  log_returns <- diff(log(Cl(stock_prices)))\n",
    "  return(log_returns)\n",
    "}\n",
    "\n",
    "# a list to store the logarithmic returns for each stock\n",
    "log_returns_list <- list()\n",
    "\n",
    "# loop through each of the stock's data in 'stock_data_list' to compute the logarithmic returns\n",
    "for(ticker in names(stock_data_list)) {\n",
    "  stock_prices <- stock_data_list[[ticker]]\n",
    "  log_returns <- compute_log_returns(stock_prices)\n",
    "  log_returns_list[[ticker]] <- log_returns\n",
    "}\n",
    "\n",
    "#print(log_returns_list)\n"
   ]
  },
  {
   "cell_type": "markdown",
   "metadata": {},
   "source": [
    "## Compute mean log returns:"
   ]
  },
  {
   "cell_type": "code",
   "execution_count": 3,
   "metadata": {
    "vscode": {
     "languageId": "r"
    }
   },
   "outputs": [
    {
     "data": {
      "text/html": [
       "<table>\n",
       "<thead><tr><th scope=col>Date</th><th scope=col>MeanLogReturn</th></tr></thead>\n",
       "<tbody>\n",
       "\t<tr><td>2020-01-02   </td><td>          NaN</td></tr>\n",
       "\t<tr><td>2020-01-03   </td><td>-0.0044412149</td></tr>\n",
       "\t<tr><td>2020-01-06   </td><td> 0.0009751704</td></tr>\n",
       "\t<tr><td>2020-01-07   </td><td>-0.0020736697</td></tr>\n",
       "\t<tr><td>2020-01-08   </td><td> 0.0021340068</td></tr>\n",
       "\t<tr><td>2020-01-09   </td><td> 0.0025843238</td></tr>\n",
       "</tbody>\n",
       "</table>\n"
      ],
      "text/latex": [
       "\\begin{tabular}{r|ll}\n",
       " Date & MeanLogReturn\\\\\n",
       "\\hline\n",
       "\t 2020-01-02    &           NaN\\\\\n",
       "\t 2020-01-03    & -0.0044412149\\\\\n",
       "\t 2020-01-06    &  0.0009751704\\\\\n",
       "\t 2020-01-07    & -0.0020736697\\\\\n",
       "\t 2020-01-08    &  0.0021340068\\\\\n",
       "\t 2020-01-09    &  0.0025843238\\\\\n",
       "\\end{tabular}\n"
      ],
      "text/markdown": [
       "\n",
       "| Date | MeanLogReturn |\n",
       "|---|---|\n",
       "| 2020-01-02    |           NaN |\n",
       "| 2020-01-03    | -0.0044412149 |\n",
       "| 2020-01-06    |  0.0009751704 |\n",
       "| 2020-01-07    | -0.0020736697 |\n",
       "| 2020-01-08    |  0.0021340068 |\n",
       "| 2020-01-09    |  0.0025843238 |\n",
       "\n"
      ],
      "text/plain": [
       "  Date       MeanLogReturn\n",
       "1 2020-01-02           NaN\n",
       "2 2020-01-03 -0.0044412149\n",
       "3 2020-01-06  0.0009751704\n",
       "4 2020-01-07 -0.0020736697\n",
       "5 2020-01-08  0.0021340068\n",
       "6 2020-01-09  0.0025843238"
      ]
     },
     "metadata": {},
     "output_type": "display_data"
    }
   ],
   "source": [
    "\n",
    "# combine all the logarithmic returns into one dataframe\n",
    "# each column represents a stock, and each row represents a date\n",
    "combined_log_returns <- do.call(merge, c(log_returns_list, all = TRUE))\n",
    "\n",
    "# mean logarithmic return for each date\n",
    "mean_log_returns <- rowMeans(combined_log_returns, na.rm = TRUE)\n",
    "\n",
    "# convert the mean logarithmic returns to a dataframe \n",
    "mean_log_returns_df <- data.frame(Date = index(combined_log_returns), MeanLogReturn = mean_log_returns)\n",
    "\n",
    "head(mean_log_returns_df)\n"
   ]
  },
  {
   "cell_type": "markdown",
   "metadata": {},
   "source": [
    "# ARMA identification and estimation:"
   ]
  },
  {
   "cell_type": "code",
   "execution_count": 4,
   "metadata": {
    "vscode": {
     "languageId": "r"
    }
   },
   "outputs": [],
   "source": [
    "# clean the data from missing observations\n",
    "clean_data <- na.omit(mean_log_returns_df)\n"
   ]
  },
  {
   "cell_type": "code",
   "execution_count": 5,
   "metadata": {
    "vscode": {
     "languageId": "r"
    }
   },
   "outputs": [
    {
     "data": {
      "image/png": "[encoded data removed]",
      "text/plain": [
       "Plot with title \"mean_log_returns\""
      ]
     },
     "metadata": {},
     "output_type": "display_data"
    }
   ],
   "source": [
    "plot.ts(clean_data$MeanLogReturn, ylab = NA, main = 'mean_log_returns')"
   ]
  },
  {
   "cell_type": "markdown",
   "metadata": {},
   "source": [
    " We can see a pattern typical for financial returns data, that are very likely mean stationary. There seem to be clusters of higher volatility, with the most significant one at the beginning of our data, which covers mainly the year 2020. We might argue that this was due to the onset of COVID-19 and related economic uncertainty. The mean stationarity of the series is further tested using ADF and KPSS tests below."
   ]
  },
  {
   "cell_type": "code",
   "execution_count": 11,
   "metadata": {
    "vscode": {
     "languageId": "r"
    }
   },
   "outputs": [],
   "source": [
    "#install.packages('tseries')\n",
    "\n",
    "rets = clean_data$MeanLogReturn"
   ]
  },
  {
   "cell_type": "code",
   "execution_count": 12,
   "metadata": {
    "vscode": {
     "languageId": "r"
    }
   },
   "outputs": [
    {
     "data": {
      "text/plain": [
       "\n",
       "\tBox-Ljung test\n",
       "\n",
       "data:  rets\n",
       "X-squared = 16.618, df = 1, p-value = 4.572e-05\n"
      ]
     },
     "metadata": {},
     "output_type": "display_data"
    },
    {
     "name": "stderr",
     "output_type": "stream",
     "text": [
      "Warning message in adf.test(rets, k = 1):\n",
      "\"p-value smaller than printed p-value\""
     ]
    },
    {
     "data": {
      "text/plain": [
       "\n",
       "\tAugmented Dickey-Fuller Test\n",
       "\n",
       "data:  rets\n",
       "Dickey-Fuller = -17.867, Lag order = 1, p-value = 0.01\n",
       "alternative hypothesis: stationary\n"
      ]
     },
     "metadata": {},
     "output_type": "display_data"
    },
    {
     "name": "stderr",
     "output_type": "stream",
     "text": [
      "Warning message in kpss.test(rets, null = \"Level\"):\n",
      "\"p-value greater than printed p-value\""
     ]
    },
    {
     "data": {
      "text/plain": [
       "\n",
       "\tKPSS Test for Level Stationarity\n",
       "\n",
       "data:  rets\n",
       "KPSS Level = 0.085825, Truncation lag parameter = 6, p-value = 0.1\n"
      ]
     },
     "metadata": {},
     "output_type": "display_data"
    },
    {
     "name": "stderr",
     "output_type": "stream",
     "text": [
      "Warning message in kpss.test(rets, null = \"Trend\"):\n",
      "\"p-value greater than printed p-value\""
     ]
    },
    {
     "data": {
      "text/plain": [
       "\n",
       "\tKPSS Test for Trend Stationarity\n",
       "\n",
       "data:  rets\n",
       "KPSS Trend = 0.088488, Truncation lag parameter = 6, p-value = 0.1\n"
      ]
     },
     "metadata": {},
     "output_type": "display_data"
    }
   ],
   "source": [
    "library(tseries)\n",
    "\n",
    "\n",
    "Box.test(rets, type = 'Ljung-Box')\n",
    "\n",
    "adf.test(rets, k = 1)\n",
    "\n",
    "kpss.test(rets, null = 'Level')\n",
    "kpss.test(rets, null = 'Trend')"
   ]
  },
  {
   "cell_type": "markdown",
   "metadata": {},
   "source": [
    "The Ljung-Box Q test rejects the null hypothesis of no autocorrelation. This suggests that past values might have a predictive power on future values in our series.\n",
    "\n",
    "Based on the ADF test, we reject the null hypothesis of unit root; suggesting mean stationarity. Since ADF test tests just for a specific form of non-stationarity (unit root) we conduct a KPSS test. \n",
    "\n",
    "Based on the KPSS test, we do not reject the null hypothesis of neither level (around a mean) or trend (around a trend of the series) stationarity. All on the 5% sign. level."
   ]
  },
  {
   "cell_type": "code",
   "execution_count": 14,
   "metadata": {
    "vscode": {
     "languageId": "r"
    }
   },
   "outputs": [
    {
     "data": {
      "image/png": "[encoded data removed]",
      "text/plain": [
       "Plot with title \"Series  rets\""
      ]
     },
     "metadata": {},
     "output_type": "display_data"
    }
   ],
   "source": [
    "\n",
    "options(repr.plot.width = 12, repr.plot.height = 6)\n",
    "par(mfrow = c(1, 2))\n",
    "\n",
    "\n",
    "# autocorrelation and partial autocorrelation fctions\n",
    "acf(rets)\n",
    "pacf(rets)\n",
    "\n",
    "#print(clean_data)"
   ]
  },
  {
   "cell_type": "markdown",
   "metadata": {},
   "source": [
    "Based on the plotted PACF we estimate AR(2), AR(4), and AR(7). We chose those based on the displayed significant lags. \n",
    "\n",
    "We suspect that AR(9) might work the best, however it is also a model of a probably too high order, possibly leading to overfitting our data.\n",
    "\n",
    "Since it is not clear from the plots whether to use AR or MA model, we later estimate MA models and the combination of both model types as well. For now we focus on the AR models only."
   ]
  },
  {
   "cell_type": "code",
   "execution_count": 16,
   "metadata": {
    "vscode": {
     "languageId": "r"
    }
   },
   "outputs": [
    {
     "name": "stdout",
     "output_type": "stream",
     "text": [
      "Series: rets \n",
      "ARIMA(2,0,0) with non-zero mean \n",
      "\n",
      "Coefficients:\n",
      "          ar1     ar2   mean\n",
      "      -0.1342  0.1195  1e-04\n",
      "s.e.   0.0372  0.0372  7e-04\n",
      "\n",
      "sigma^2 estimated as 0.0003178:  log likelihood=1858.47\n",
      "AIC=-3708.93   AICc=-3708.88   BIC=-3690.66\n",
      "\n",
      "Training set error measures:\n",
      "                        ME      RMSE       MAE     MPE     MAPE      MASE\n",
      "Training set -2.070596e-06 0.0177889 0.0118035 111.181 152.3466 0.6677799\n",
      "                    ACF1\n",
      "Training set -0.00410459\n"
     ]
    },
    {
     "data": {
      "image/png": "[encoded data removed]",
      "text/plain": [
       "Plot with title \"NA\""
      ]
     },
     "metadata": {},
     "output_type": "display_data"
    }
   ],
   "source": [
    "library(forecast)\n",
    "rets_ar2 <- Arima(rets, order = c(2, 0, 0))\n",
    "summary (rets_ar2)\n",
    "\n",
    "par(mfrow = c(1, 2))\n",
    "acf(rets_ar2$residuals, main = NA)\n",
    "pacf(rets_ar2$residuals, main = NA)"
   ]
  },
  {
   "cell_type": "code",
   "execution_count": 17,
   "metadata": {
    "vscode": {
     "languageId": "r"
    }
   },
   "outputs": [
    {
     "data": {
      "text/plain": [
       "\n",
       "\tBox-Ljung test\n",
       "\n",
       "data:  rets_ar2$residuals\n",
       "X-squared = 0.012046, df = 1, p-value = 0.9126\n"
      ]
     },
     "metadata": {},
     "output_type": "display_data"
    },
    {
     "data": {
      "text/plain": [
       "\n",
       "\tBox-Ljung test\n",
       "\n",
       "data:  rets_ar2$residuals\n",
       "X-squared = 4.1934, df = 4, p-value = 0.3805\n"
      ]
     },
     "metadata": {},
     "output_type": "display_data"
    },
    {
     "data": {
      "text/plain": [
       "\n",
       "\tBox-Ljung test\n",
       "\n",
       "data:  rets_ar2$residuals\n",
       "X-squared = 31.275, df = 8, p-value = 0.0001255\n"
      ]
     },
     "metadata": {},
     "output_type": "display_data"
    },
    {
     "data": {
      "text/plain": [
       "\n",
       "\tBox-Ljung test\n",
       "\n",
       "data:  rets_ar2$residuals\n",
       "X-squared = 45.93, df = 12, p-value = 7.134e-06\n"
      ]
     },
     "metadata": {},
     "output_type": "display_data"
    }
   ],
   "source": [
    "Box.test(rets_ar2$residuals, type = \"Ljung-Box\", lag = 1)\n",
    "\n",
    "Box.test(rets_ar2$residuals, type = \"Ljung-Box\", lag = 4)\n",
    "\n",
    "Box.test(rets_ar2$residuals, type = \"Ljung-Box\", lag = 8)\n",
    "Box.test(rets_ar2$residuals, type = \"Ljung-Box\", lag = 12)"
   ]
  },
  {
   "cell_type": "markdown",
   "metadata": {},
   "source": [
    "From the PACF of the estimated AR(2) model we can see that it does not 'smoothen' the autocorellation well. This can be seen also on the low p-values of the Box-Ljung tests at the higher lags. Hence, there is still a room for a better model."
   ]
  },
  {
   "cell_type": "code",
   "execution_count": 18,
   "metadata": {
    "vscode": {
     "languageId": "r"
    }
   },
   "outputs": [
    {
     "name": "stdout",
     "output_type": "stream",
     "text": [
      "Series: rets \n",
      "ARIMA(4,0,0) with non-zero mean \n",
      "\n",
      "Coefficients:\n",
      "          ar1     ar2     ar3      ar4   mean\n",
      "      -0.1351  0.1357  0.0193  -0.0946  1e-04\n",
      "s.e.   0.0373  0.0376  0.0376   0.0373  6e-04\n",
      "\n",
      "sigma^2 estimated as 0.0003155:  log likelihood=1862.05\n",
      "AIC=-3712.1   AICc=-3711.98   BIC=-3684.69\n",
      "\n",
      "Training set error measures:\n",
      "                        ME       RMSE        MAE     MPE     MAPE      MASE\n",
      "Training set -3.227799e-06 0.01769911 0.01189232 110.001 155.8783 0.6728052\n",
      "                    ACF1\n",
      "Training set 0.003912051\n"
     ]
    },
    {
     "data": {
      "text/plain": [
       "\n",
       "\tBox-Ljung test\n",
       "\n",
       "data:  rets_ar4$residuals\n",
       "X-squared = 0.010943, df = 1, p-value = 0.9167\n"
      ]
     },
     "metadata": {},
     "output_type": "display_data"
    },
    {
     "data": {
      "text/plain": [
       "\n",
       "\tBox-Ljung test\n",
       "\n",
       "data:  rets_ar4$residuals\n",
       "X-squared = 0.35275, df = 4, p-value = 0.9862\n"
      ]
     },
     "metadata": {},
     "output_type": "display_data"
    },
    {
     "data": {
      "text/plain": [
       "\n",
       "\tBox-Ljung test\n",
       "\n",
       "data:  rets_ar4$residuals\n",
       "X-squared = 25.212, df = 8, p-value = 0.001431\n"
      ]
     },
     "metadata": {},
     "output_type": "display_data"
    },
    {
     "data": {
      "text/plain": [
       "\n",
       "\tBox-Ljung test\n",
       "\n",
       "data:  rets_ar4$residuals\n",
       "X-squared = 38.983, df = 12, p-value = 0.0001059\n"
      ]
     },
     "metadata": {},
     "output_type": "display_data"
    },
    {
     "data": {
      "image/png": "[encoded data removed]",
      "text/plain": [
       "Plot with title \"NA\""
      ]
     },
     "metadata": {},
     "output_type": "display_data"
    }
   ],
   "source": [
    "library(forecast)\n",
    "rets_ar4 <- Arima(rets, order = c(4, 0, 0))\n",
    "summary (rets_ar4)\n",
    "\n",
    "par(mfrow = c(1, 2))\n",
    "acf(rets_ar4$residuals, main = NA)\n",
    "pacf(rets_ar4$residuals, main = NA)\n",
    "\n",
    "Box.test(rets_ar4$residuals, type = \"Ljung-Box\", lag = 1)\n",
    "Box.test(rets_ar4$residuals, type = \"Ljung-Box\", lag = 4)\n",
    "Box.test(rets_ar4$residuals, type = \"Ljung-Box\", lag = 8)\n",
    "Box.test(rets_ar4$residuals, type = \"Ljung-Box\", lag = 12)"
   ]
  },
  {
   "cell_type": "markdown",
   "metadata": {},
   "source": [
    "Similarly as for the AR(2) model, the AR(4) does not have a very good fit based on both PACF and the B-L tests."
   ]
  },
  {
   "cell_type": "code",
   "execution_count": 21,
   "metadata": {
    "vscode": {
     "languageId": "r"
    }
   },
   "outputs": [
    {
     "name": "stdout",
     "output_type": "stream",
     "text": [
      "Series: rets \n",
      "ARIMA(7,0,0) with non-zero mean \n",
      "\n",
      "Coefficients:\n",
      "          ar1     ar2     ar3      ar4     ar5     ar6     ar7   mean\n",
      "      -0.1064  0.1196  0.0260  -0.0739  0.0081  -0.107  0.1513  1e-04\n",
      "s.e.   0.0370  0.0370  0.0373   0.0371  0.0372   0.037  0.0370  7e-04\n",
      "\n",
      "sigma^2 estimated as 0.0003039:  log likelihood=1876.75\n",
      "AIC=-3735.49   AICc=-3735.24   BIC=-3694.38\n",
      "\n",
      "Training set error measures:\n",
      "                        ME       RMSE       MAE      MPE     MAPE      MASE\n",
      "Training set -5.369222e-07 0.01733427 0.0118586 90.33673 182.6282 0.6708971\n",
      "                    ACF1\n",
      "Training set 0.008128606\n"
     ]
    },
    {
     "data": {
      "text/plain": [
       "\n",
       "\tBox-Ljung test\n",
       "\n",
       "data:  rets_ar7$residuals\n",
       "X-squared = 0.047243, df = 1, p-value = 0.8279\n"
      ]
     },
     "metadata": {},
     "output_type": "display_data"
    },
    {
     "data": {
      "text/plain": [
       "\n",
       "\tBox-Ljung test\n",
       "\n",
       "data:  rets_ar7$residuals\n",
       "X-squared = 0.87643, df = 4, p-value = 0.9279\n"
      ]
     },
     "metadata": {},
     "output_type": "display_data"
    },
    {
     "data": {
      "text/plain": [
       "\n",
       "\tBox-Ljung test\n",
       "\n",
       "data:  rets_ar7$residuals\n",
       "X-squared = 2.6374, df = 8, p-value = 0.955\n"
      ]
     },
     "metadata": {},
     "output_type": "display_data"
    },
    {
     "data": {
      "text/plain": [
       "\n",
       "\tBox-Ljung test\n",
       "\n",
       "data:  rets_ar7$residuals\n",
       "X-squared = 14.857, df = 12, p-value = 0.2493\n"
      ]
     },
     "metadata": {},
     "output_type": "display_data"
    },
    {
     "data": {
      "image/png": "[encoded data removed]",
      "text/plain": [
       "Plot with title \"NA\""
      ]
     },
     "metadata": {},
     "output_type": "display_data"
    }
   ],
   "source": [
    "library(forecast)\n",
    "rets_ar7 <- Arima(rets, order = c(7, 0, 0))\n",
    "summary (rets_ar7)\n",
    "\n",
    "par(mfrow = c(1, 2))\n",
    "acf(rets_ar7$residuals, main = NA)\n",
    "pacf(rets_ar7$residuals, main = NA)\n",
    "\n",
    "Box.test(rets_ar7$residuals, type = \"Ljung-Box\", lag = 1)\n",
    "Box.test(rets_ar7$residuals, type = \"Ljung-Box\", lag = 4)\n",
    "Box.test(rets_ar7$residuals, type = \"Ljung-Box\", lag = 8)\n",
    "Box.test(rets_ar7$residuals, type = \"Ljung-Box\", lag = 12)"
   ]
  },
  {
   "cell_type": "markdown",
   "metadata": {},
   "source": [
    "The AR(7) model seems to have much better fit based on all the p-values above the 5% sign. threshold of the B-L tests for various lags. However if one looks at the PACF there are still two significant lags."
   ]
  },
  {
   "cell_type": "code",
   "execution_count": 23,
   "metadata": {
    "vscode": {
     "languageId": "r"
    }
   },
   "outputs": [
    {
     "name": "stdout",
     "output_type": "stream",
     "text": [
      "Series: rets \n",
      "ARIMA(9,0,0) with non-zero mean \n",
      "\n",
      "Coefficients:\n",
      "          ar1     ar2     ar3      ar4     ar5      ar6     ar7      ar8\n",
      "      -0.0909  0.0948  0.0394  -0.0790  0.0196  -0.1037  0.1309  -0.0414\n",
      "s.e.   0.0372  0.0373  0.0371   0.0369  0.0370   0.0369  0.0371   0.0372\n",
      "         ar9   mean\n",
      "      0.1280  2e-04\n",
      "s.e.  0.0371  7e-04\n",
      "\n",
      "sigma^2 estimated as 0.0002988:  log likelihood=1883.7\n",
      "AIC=-3745.39   AICc=-3745.01   BIC=-3695.14\n",
      "\n",
      "Training set error measures:\n",
      "                       ME       RMSE        MAE      MPE     MAPE      MASE\n",
      "Training set 3.266408e-06 0.01716385 0.01176954 88.66789 190.9659 0.6658586\n",
      "                    ACF1\n",
      "Training set 0.001528027\n"
     ]
    },
    {
     "data": {
      "text/plain": [
       "\n",
       "\tBox-Ljung test\n",
       "\n",
       "data:  rets_ar9$residuals\n",
       "X-squared = 0.0016694, df = 1, p-value = 0.9674\n"
      ]
     },
     "metadata": {},
     "output_type": "display_data"
    },
    {
     "data": {
      "text/plain": [
       "\n",
       "\tBox-Ljung test\n",
       "\n",
       "data:  rets_ar9$residuals\n",
       "X-squared = 0.058962, df = 4, p-value = 0.9996\n"
      ]
     },
     "metadata": {},
     "output_type": "display_data"
    },
    {
     "data": {
      "text/plain": [
       "\n",
       "\tBox-Ljung test\n",
       "\n",
       "data:  rets_ar9$residuals\n",
       "X-squared = 0.10545, df = 8, p-value = 1\n"
      ]
     },
     "metadata": {},
     "output_type": "display_data"
    },
    {
     "data": {
      "text/plain": [
       "\n",
       "\tBox-Ljung test\n",
       "\n",
       "data:  rets_ar9$residuals\n",
       "X-squared = 2.7896, df = 12, p-value = 0.9969\n"
      ]
     },
     "metadata": {},
     "output_type": "display_data"
    },
    {
     "data": {
      "image/png": "[encoded data removed]",
      "text/plain": [
       "Plot with title \"NA\""
      ]
     },
     "metadata": {},
     "output_type": "display_data"
    }
   ],
   "source": [
    "library(forecast)\n",
    "rets_ar9 <- Arima(rets, order = c(9, 0, 0))\n",
    "summary (rets_ar9)\n",
    "\n",
    "par(mfrow = c(1, 2))\n",
    "acf(rets_ar9$residuals, main = NA)\n",
    "pacf(rets_ar9$residuals, main = NA)\n",
    "\n",
    "Box.test(rets_ar9$residuals, type = \"Ljung-Box\", lag = 1)\n",
    "Box.test(rets_ar9$residuals, type = \"Ljung-Box\", lag = 4)\n",
    "Box.test(rets_ar9$residuals, type = \"Ljung-Box\", lag = 8)\n",
    "Box.test(rets_ar9$residuals, type = \"Ljung-Box\", lag = 12)"
   ]
  },
  {
   "cell_type": "markdown",
   "metadata": {},
   "source": [
    "As expected the AR(9) works quite well with all the B-L tests p-values almost 1 and one barely significant lag on the PACF. However we continue with model identification since we want as parsimonious model as possible."
   ]
  },
  {
   "cell_type": "markdown",
   "metadata": {},
   "source": [
    "Based on the ACF of our returns data plotted earlier we suspect an MA(1) process:"
   ]
  },
  {
   "cell_type": "code",
   "execution_count": 29,
   "metadata": {
    "vscode": {
     "languageId": "r"
    }
   },
   "outputs": [
    {
     "name": "stdout",
     "output_type": "stream",
     "text": [
      "Series: rets \n",
      "ARIMA(0,0,1) with non-zero mean \n",
      "\n",
      "Coefficients:\n",
      "          ma1   mean\n",
      "      -0.1214  1e-04\n",
      "s.e.   0.0330  6e-04\n",
      "\n",
      "sigma^2 estimated as 0.0003235:  log likelihood=1851.6\n",
      "AIC=-3697.2   AICc=-3697.17   BIC=-3683.5\n",
      "\n",
      "Training set error measures:\n",
      "                        ME       RMSE        MAE    MPE     MAPE      MASE\n",
      "Training set -1.739631e-06 0.01796173 0.01181228 113.86 128.9496 0.6682766\n",
      "                    ACF1\n",
      "Training set -0.01699059\n"
     ]
    },
    {
     "data": {
      "text/plain": [
       "\n",
       "\tBox-Ljung test\n",
       "\n",
       "data:  rets_ma1$residuals\n",
       "X-squared = 0.20641, df = 1, p-value = 0.6496\n"
      ]
     },
     "metadata": {},
     "output_type": "display_data"
    },
    {
     "data": {
      "text/plain": [
       "\n",
       "\tBox-Ljung test\n",
       "\n",
       "data:  rets_ma1$residuals\n",
       "X-squared = 17.842, df = 4, p-value = 0.001325\n"
      ]
     },
     "metadata": {},
     "output_type": "display_data"
    },
    {
     "data": {
      "text/plain": [
       "\n",
       "\tBox-Ljung test\n",
       "\n",
       "data:  rets_ma1$residuals\n",
       "X-squared = 57.382, df = 8, p-value = 1.517e-09\n"
      ]
     },
     "metadata": {},
     "output_type": "display_data"
    },
    {
     "data": {
      "text/plain": [
       "\n",
       "\tBox-Ljung test\n",
       "\n",
       "data:  rets_ma1$residuals\n",
       "X-squared = 76.176, df = 12, p-value = 2.201e-11\n"
      ]
     },
     "metadata": {},
     "output_type": "display_data"
    },
    {
     "data": {
      "image/png": "[encoded data removed]",
      "text/plain": [
       "Plot with title \"NA\""
      ]
     },
     "metadata": {},
     "output_type": "display_data"
    }
   ],
   "source": [
    "library(forecast)\n",
    "rets_ma1 <- Arima(rets, order = c(0, 0, 1))\n",
    "summary (rets_ma1)\n",
    "\n",
    "par(mfrow = c(1, 2))\n",
    "acf(rets_ma1$residuals, main = NA)\n",
    "pacf(rets_ma1$residuals, main = NA)\n",
    "\n",
    "Box.test(rets_ma1$residuals, type = \"Ljung-Box\", lag = 1)\n",
    "Box.test(rets_ma1$residuals, type = \"Ljung-Box\", lag = 4)\n",
    "Box.test(rets_ma1$residuals, type = \"Ljung-Box\", lag = 8)\n",
    "Box.test(rets_ma1$residuals, type = \"Ljung-Box\", lag = 12)"
   ]
  },
  {
   "cell_type": "markdown",
   "metadata": {},
   "source": [
    "This model does not look very well based on both the B-L tests for higher lags as well as the plot. "
   ]
  },
  {
   "cell_type": "markdown",
   "metadata": {},
   "source": [
    "We try the auto-arima fction:"
   ]
  },
  {
   "cell_type": "code",
   "execution_count": 25,
   "metadata": {
    "vscode": {
     "languageId": "r"
    }
   },
   "outputs": [
    {
     "data": {
      "text/plain": [
       "Series: rets \n",
       "ARIMA(0,0,2) with zero mean \n",
       "\n",
       "Coefficients:\n",
       "          ma1     ma2\n",
       "      -0.1317  0.1559\n",
       "s.e.   0.0368  0.0382\n",
       "\n",
       "sigma^2 estimated as 0.0003165:  log likelihood=1859.42\n",
       "AIC=-3712.85   AICc=-3712.81   BIC=-3699.14"
      ]
     },
     "metadata": {},
     "output_type": "display_data"
    }
   ],
   "source": [
    "auto.arima(rets)"
   ]
  },
  {
   "cell_type": "markdown",
   "metadata": {},
   "source": [
    "Thus we try the suggested MA(2) model:"
   ]
  },
  {
   "cell_type": "code",
   "execution_count": 30,
   "metadata": {
    "vscode": {
     "languageId": "r"
    }
   },
   "outputs": [
    {
     "name": "stdout",
     "output_type": "stream",
     "text": [
      "Series: rets \n",
      "ARIMA(0,0,2) with zero mean \n",
      "\n",
      "Coefficients:\n",
      "          ma1     ma2\n",
      "      -0.1317  0.1559\n",
      "s.e.   0.0368  0.0382\n",
      "\n",
      "sigma^2 estimated as 0.0003165:  log likelihood=1859.42\n",
      "AIC=-3712.85   AICc=-3712.81   BIC=-3699.14\n",
      "\n",
      "Training set error measures:\n",
      "                       ME       RMSE        MAE      MPE     MAPE      MASE\n",
      "Training set 0.0001424417 0.01776486 0.01185128 108.5303 159.3976 0.6704833\n",
      "                     ACF1\n",
      "Training set -0.003817845\n"
     ]
    },
    {
     "data": {
      "text/plain": [
       "\n",
       "\tBox-Ljung test\n",
       "\n",
       "data:  rets_ma2$residuals\n",
       "X-squared = 0.010422, df = 1, p-value = 0.9187\n"
      ]
     },
     "metadata": {},
     "output_type": "display_data"
    },
    {
     "data": {
      "text/plain": [
       "\n",
       "\tBox-Ljung test\n",
       "\n",
       "data:  rets_ma2$residuals\n",
       "X-squared = 2.7541, df = 4, p-value = 0.5998\n"
      ]
     },
     "metadata": {},
     "output_type": "display_data"
    },
    {
     "data": {
      "text/plain": [
       "\n",
       "\tBox-Ljung test\n",
       "\n",
       "data:  rets_ma2$residuals\n",
       "X-squared = 30.312, df = 8, p-value = 0.0001861\n"
      ]
     },
     "metadata": {},
     "output_type": "display_data"
    },
    {
     "data": {
      "text/plain": [
       "\n",
       "\tBox-Ljung test\n",
       "\n",
       "data:  rets_ma2$residuals\n",
       "X-squared = 45.48, df = 12, p-value = 8.526e-06\n"
      ]
     },
     "metadata": {},
     "output_type": "display_data"
    },
    {
     "data": {
      "image/png": "[encoded data removed]",
      "text/plain": [
       "Plot with title \"NA\""
      ]
     },
     "metadata": {},
     "output_type": "display_data"
    }
   ],
   "source": [
    "library(forecast)\n",
    "rets_ma2 <- Arima(rets, order = c(0, 0, 2), include.mean = FALSE)\n",
    "summary (rets_ma2)\n",
    "\n",
    "par(mfrow = c(1, 2))\n",
    "acf(rets_ma2$residuals, main = NA)\n",
    "pacf(rets_ma2$residuals, main = NA)\n",
    "\n",
    "\n",
    "Box.test(rets_ma2$residuals, type = \"Ljung-Box\", lag = 1)\n",
    "Box.test(rets_ma2$residuals, type = \"Ljung-Box\", lag = 4)\n",
    "Box.test(rets_ma2$residuals, type = \"Ljung-Box\", lag = 8)\n",
    "Box.test(rets_ma2$residuals, type = \"Ljung-Box\", lag = 12)"
   ]
  },
  {
   "cell_type": "markdown",
   "metadata": {},
   "source": [
    "This model, however, behaves not very differently from the MA(2) model. It does not have much better fit.\n",
    "\n",
    "Therefore we try a combination of the AR and MA models:"
   ]
  },
  {
   "cell_type": "code",
   "execution_count": 31,
   "metadata": {
    "vscode": {
     "languageId": "r"
    }
   },
   "outputs": [
    {
     "name": "stdout",
     "output_type": "stream",
     "text": [
      "Series: rets \n",
      "ARIMA(4,0,2) with non-zero mean \n",
      "\n",
      "Coefficients:\n",
      "          ar1      ar2     ar3     ar4     ma1     ma2   mean\n",
      "      -1.6484  -0.7093  0.1152  0.0345  1.5657  0.6722  1e-04\n",
      "s.e.   0.1307   0.1414  0.0759  0.0561  0.1245  0.1099  7e-04\n",
      "\n",
      "sigma^2 estimated as 0.0003015:  log likelihood=1879.01\n",
      "AIC=-3742.03   AICc=-3741.82   BIC=-3705.48\n",
      "\n",
      "Training set error measures:\n",
      "                       ME       RMSE        MAE      MPE     MAPE      MASE\n",
      "Training set 6.194441e-07 0.01727824 0.01177362 97.09086 187.8723 0.6660895\n",
      "                      ACF1\n",
      "Training set -0.0004020137\n"
     ]
    },
    {
     "data": {
      "text/plain": [
       "\n",
       "\tBox-Ljung test\n",
       "\n",
       "data:  rets_arma42$residuals\n",
       "X-squared = 0.00011556, df = 1, p-value = 0.9914\n"
      ]
     },
     "metadata": {},
     "output_type": "display_data"
    },
    {
     "data": {
      "text/plain": [
       "\n",
       "\tBox-Ljung test\n",
       "\n",
       "data:  rets_arma42$residuals\n",
       "X-squared = 0.46808, df = 4, p-value = 0.9765\n"
      ]
     },
     "metadata": {},
     "output_type": "display_data"
    },
    {
     "data": {
      "text/plain": [
       "\n",
       "\tBox-Ljung test\n",
       "\n",
       "data:  rets_arma42$residuals\n",
       "X-squared = 5.2949, df = 8, p-value = 0.7256\n"
      ]
     },
     "metadata": {},
     "output_type": "display_data"
    },
    {
     "data": {
      "text/plain": [
       "\n",
       "\tBox-Ljung test\n",
       "\n",
       "data:  rets_arma42$residuals\n",
       "X-squared = 11.872, df = 12, p-value = 0.456\n"
      ]
     },
     "metadata": {},
     "output_type": "display_data"
    },
    {
     "data": {
      "image/png": "[encoded data removed]",
      "text/plain": [
       "Plot with title \"NA\""
      ]
     },
     "metadata": {},
     "output_type": "display_data"
    }
   ],
   "source": [
    "library(forecast)\n",
    "rets_arma42 <- Arima(rets, order = c(4, 0, 2))\n",
    "summary (rets_arma42)\n",
    "\n",
    "par(mfrow = c(1, 2))\n",
    "acf(rets_arma42$residuals, main = NA)\n",
    "pacf(rets_arma42$residuals, main = NA)\n",
    "\n",
    "Box.test(rets_arma42$residuals, type = \"Ljung-Box\", lag = 1)\n",
    "Box.test(rets_arma42$residuals, type = \"Ljung-Box\", lag = 4)\n",
    "Box.test(rets_arma42$residuals, type = \"Ljung-Box\", lag = 8)\n",
    "Box.test(rets_arma42$residuals, type = \"Ljung-Box\", lag = 12)"
   ]
  },
  {
   "cell_type": "markdown",
   "metadata": {},
   "source": [
    "The ARMA(4,2) model seems to be the best model based on the acf, pacf, as well as the tests (all p-values much higher than 0.05). acf as well as pacf have no significant lags."
   ]
  },
  {
   "cell_type": "markdown",
   "metadata": {},
   "source": [
    "Next we compare the estimated models based on the AIC and BIC criteria:"
   ]
  },
  {
   "cell_type": "code",
   "execution_count": 34,
   "metadata": {
    "vscode": {
     "languageId": "r"
    }
   },
   "outputs": [
    {
     "data": {
      "text/html": [
       "<table>\n",
       "<thead><tr><th></th><th scope=col>AIC</th><th scope=col>BIC</th></tr></thead>\n",
       "<tbody>\n",
       "\t<tr><th scope=row>AR(2)</th><td>-3708.933</td><td>-3690.660</td></tr>\n",
       "\t<tr><th scope=row>AR(9)</th><td>-3745.391</td><td>-3695.142</td></tr>\n",
       "\t<tr><th scope=row>ARMA(4,2)</th><td>-3742.028</td><td>-3705.483</td></tr>\n",
       "\t<tr><th scope=row>MA(1)</th><td>-3697.202</td><td>-3683.497</td></tr>\n",
       "\t<tr><th scope=row>MA(2)</th><td>-3712.848</td><td>-3699.144</td></tr>\n",
       "</tbody>\n",
       "</table>\n"
      ],
      "text/latex": [
       "\\begin{tabular}{r|ll}\n",
       "  & AIC & BIC\\\\\n",
       "\\hline\n",
       "\tAR(2) & -3708.933 & -3690.660\\\\\n",
       "\tAR(9) & -3745.391 & -3695.142\\\\\n",
       "\tARMA(4,2) & -3742.028 & -3705.483\\\\\n",
       "\tMA(1) & -3697.202 & -3683.497\\\\\n",
       "\tMA(2) & -3712.848 & -3699.144\\\\\n",
       "\\end{tabular}\n"
      ],
      "text/markdown": [
       "\n",
       "| <!--/--> | AIC | BIC |\n",
       "|---|---|---|\n",
       "| AR(2) | -3708.933 | -3690.660 |\n",
       "| AR(9) | -3745.391 | -3695.142 |\n",
       "| ARMA(4,2) | -3742.028 | -3705.483 |\n",
       "| MA(1) | -3697.202 | -3683.497 |\n",
       "| MA(2) | -3712.848 | -3699.144 |\n",
       "\n"
      ],
      "text/plain": [
       "          AIC       BIC      \n",
       "AR(2)     -3708.933 -3690.660\n",
       "AR(9)     -3745.391 -3695.142\n",
       "ARMA(4,2) -3742.028 -3705.483\n",
       "MA(1)     -3697.202 -3683.497\n",
       "MA(2)     -3712.848 -3699.144"
      ]
     },
     "metadata": {},
     "output_type": "display_data"
    }
   ],
   "source": [
    "models <- 5\n",
    "criteria <- matrix(ncol = 2, nrow = models)\n",
    "colnames(criteria) <- c('AIC', 'BIC')\n",
    "rownames(criteria) <- c('AR(2)', 'AR(9)','ARMA(4,2)','MA(1)','MA(2)')\n",
    "\n",
    "criteria[1, 1] <- rets_ar2$aic\n",
    "criteria[1, 2] <- rets_ar2$bic\n",
    "criteria[2, 1] <- rets_ar9$aic\n",
    "criteria[2, 2] <- rets_ar9$bic\n",
    "\n",
    "criteria[3, 1] <- rets_arma42$aic\n",
    "criteria[3, 2] <- rets_arma42$bic\n",
    "criteria[4, 1] <- rets_ma1$aic\n",
    "criteria[4, 2] <- rets_ma1$bic\n",
    "criteria[5, 1] <- rets_ma2$aic\n",
    "criteria[5, 2] <- rets_ma2$bic\n",
    "\n",
    "criteria"
   ]
  },
  {
   "cell_type": "markdown",
   "metadata": {},
   "source": [
    "We would choose arma(4,2) due to the  lowest values apart from the AIC of the AR(9) model.\n",
    "\n",
    "The final plot of fitted vs actual:"
   ]
  }
 ],
 "metadata": {
  "kernelspec": {
   "display_name": "R",
   "language": "R",
   "name": "ir"
  },
  "language_info": {
   "codemirror_mode": "r",
   "file_extension": ".r",
   "mimetype": "text/x-r-source",
   "name": "R",
   "pygments_lexer": "r",
   "version": "3.6.1"
  }
 },
 "nbformat": 4,
 "nbformat_minor": 2
}
