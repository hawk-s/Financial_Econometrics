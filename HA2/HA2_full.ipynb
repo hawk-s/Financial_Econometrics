{
 "cells": [
  {
   "cell_type": "code",
   "execution_count": 2,
   "metadata": {
    "vscode": {
     "languageId": "r"
    }
   },
   "outputs": [
    {
     "ename": "ERROR",
     "evalue": "Error in library(rugarch): there is no package called 'rugarch'\n",
     "output_type": "error",
     "traceback": [
      "Error in library(rugarch): there is no package called 'rugarch'\nTraceback:\n",
      "1. library(rugarch)"
     ]
    }
   ],
   "source": [
    "installed.packages()\n",
    "library(quantmod)\n",
    "#library(rugarch)\n",
    "\n",
    "\n",
    "setwd(\"C:/Users/cedav/OneDrive/Plocha/IES/Master/2.semestr/finecox/HA2\")\n",
    "\n",
    "set.seed(38848152)\n",
    "\n",
    "data = read.csv(\"symbols2.csv\")\n",
    "\n",
    "symbols = sample(data$Symbol, 100, replace = FALSE)\n",
    "\n",
    "DownloadYahoo <- function(symbol, from, to = Sys.Date())\n",
    "{\n",
    "  # Package Check\n",
    "  if (!requireNamespace(\"quantmod\", quietly = TRUE)) \n",
    "  {\n",
    "    stop(\"Package 'quantmod' must be installed. Use install.packages('quantmod').\")\n",
    "  }\n",
    "  \n",
    "  # Download data from yahoo finance\n",
    "  tryCatch(\n",
    "  {\n",
    "    getSymbols(symbol, from = from, to = to, auto.assign = TRUE)\n",
    "    data <- get(symbol)\n",
    "    names(data) = unname(sapply(names(data), sub, pattern = \".*\\\\.\", replacement = \"\"))\n",
    "    return(data)\n",
    "  }, error = function(e) \n",
    "  {\n",
    "    message(\"Skipping due to error: \", e$message)\n",
    "    return(NULL)\n",
    "  })\n",
    "}\n",
    "\n",
    "from = as.Date('2020-01-01')\n",
    "to = as.Date('2020-11-01')\n",
    "\n",
    "dfs = list()\n",
    "pricesList = list()\n",
    "\n",
    "#names(prices) = symbols\n",
    "for (i in 1 : length(symbols))\n",
    "{\n",
    "  df = DownloadYahoo(symbols[i], from, to)\n",
    "  # Skip to the next iteration if df is NULL (= unsuccessful import)\n",
    "  if (is.null(df)) next\n",
    "  # Assign using double square brackets for list\n",
    "  dfs[[i]] = df \n",
    "}\n",
    "names(dfs) = symbols\n",
    "\n",
    "# Create new List without the invalid symbols\n",
    "for (symbol in symbols)\n",
    "{\n",
    "  if(!is.null(dfs[[symbol]]))\n",
    "  {\n",
    "    pricesList[[symbol]] = dfs[[symbol]]\n",
    "  }\n",
    "}\n",
    "length(pricesList)\n",
    "prices = data.frame(\"Date\" = index(pricesList[[1]]))\n",
    "# Create Data Frame of prices\n",
    "for (validSymbol in names(pricesList))\n",
    "{\n",
    "  prices[validSymbol] = as.vector(pricesList[[validSymbol]]$Adjusted)\n",
    "}\n"
   ]
  }
 ],
 "metadata": {
  "kernelspec": {
   "display_name": "R",
   "language": "R",
   "name": "ir"
  },
  "language_info": {
   "codemirror_mode": "r",
   "file_extension": ".r",
   "mimetype": "text/x-r-source",
   "name": "R",
   "pygments_lexer": "r",
   "version": "3.6.1"
  }
 },
 "nbformat": 4,
 "nbformat_minor": 2
}
